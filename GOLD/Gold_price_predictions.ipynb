{
  "nbformat": 4,
  "nbformat_minor": 0,
  "metadata": {
    "colab": {
      "name": "Gold price predictions.ipynb",
      "provenance": [],
      "include_colab_link": true
    },
    "kernelspec": {
      "name": "python3",
      "display_name": "Python 3"
    },
    "language_info": {
      "name": "python"
    }
  },
  "cells": [
    {
      "cell_type": "markdown",
      "metadata": {
        "id": "view-in-github",
        "colab_type": "text"
      },
      "source": [
        "<a href=\"https://colab.research.google.com/github/ROHIT-SANTRA/PROJECTS/blob/main/GOLD/Gold_price_predictions.ipynb\" target=\"_parent\"><img src=\"https://colab.research.google.com/assets/colab-badge.svg\" alt=\"Open In Colab\"/></a>"
      ]
    },
    {
      "cell_type": "markdown",
      "metadata": {
        "id": "vx2HjXQfwvOt"
      },
      "source": [
        "importing the libraries\n"
      ]
    },
    {
      "cell_type": "code",
      "metadata": {
        "id": "RZ1DA7HHwzGI"
      },
      "source": [
        "import numpy as np\n",
        "import pandas as pd\n",
        "import matplotlib.pyplot as plt\n",
        "import seaborn as sns\n",
        "from sklearn.model_selection import train_test_split\n",
        "from sklearn.ensemble import RandomForestRegressor\n",
        "from sklearn import metrics"
      ],
      "execution_count": null,
      "outputs": []
    },
    {
      "cell_type": "markdown",
      "metadata": {
        "id": "DLV0_ZPeyqEU"
      },
      "source": [
        "data collection and processing"
      ]
    },
    {
      "cell_type": "code",
      "metadata": {
        "id": "xryGi6-5ytXM"
      },
      "source": [
        "# loading the csv data to a Pandas DataFrame\n",
        "gold_data = pd.read_csv('/content/gold_price.csv')"
      ],
      "execution_count": null,
      "outputs": []
    },
    {
      "cell_type": "code",
      "metadata": {
        "colab": {
          "base_uri": "https://localhost:8080/",
          "height": 204
        },
        "id": "DhkIQ527z7tW",
        "outputId": "24efb1c3-2769-4c77-917a-6b301b1a3692"
      },
      "source": [
        "# print first 5 rows in the dataframe\n",
        "gold_data.head()"
      ],
      "execution_count": null,
      "outputs": [
        {
          "output_type": "execute_result",
          "data": {
            "text/html": [
              "<div>\n",
              "<style scoped>\n",
              "    .dataframe tbody tr th:only-of-type {\n",
              "        vertical-align: middle;\n",
              "    }\n",
              "\n",
              "    .dataframe tbody tr th {\n",
              "        vertical-align: top;\n",
              "    }\n",
              "\n",
              "    .dataframe thead th {\n",
              "        text-align: right;\n",
              "    }\n",
              "</style>\n",
              "<table border=\"1\" class=\"dataframe\">\n",
              "  <thead>\n",
              "    <tr style=\"text-align: right;\">\n",
              "      <th></th>\n",
              "      <th>Date</th>\n",
              "      <th>SPX</th>\n",
              "      <th>GLD</th>\n",
              "      <th>USO</th>\n",
              "      <th>SLV</th>\n",
              "      <th>EUR/USD</th>\n",
              "    </tr>\n",
              "  </thead>\n",
              "  <tbody>\n",
              "    <tr>\n",
              "      <th>0</th>\n",
              "      <td>1/2/2008</td>\n",
              "      <td>1447.160034</td>\n",
              "      <td>84.860001</td>\n",
              "      <td>78.470001</td>\n",
              "      <td>15.180</td>\n",
              "      <td>1.471692</td>\n",
              "    </tr>\n",
              "    <tr>\n",
              "      <th>1</th>\n",
              "      <td>1/3/2008</td>\n",
              "      <td>1447.160034</td>\n",
              "      <td>85.570000</td>\n",
              "      <td>78.370003</td>\n",
              "      <td>15.285</td>\n",
              "      <td>1.474491</td>\n",
              "    </tr>\n",
              "    <tr>\n",
              "      <th>2</th>\n",
              "      <td>1/4/2008</td>\n",
              "      <td>1411.630005</td>\n",
              "      <td>85.129997</td>\n",
              "      <td>77.309998</td>\n",
              "      <td>15.167</td>\n",
              "      <td>1.475492</td>\n",
              "    </tr>\n",
              "    <tr>\n",
              "      <th>3</th>\n",
              "      <td>1/7/2008</td>\n",
              "      <td>1416.180054</td>\n",
              "      <td>84.769997</td>\n",
              "      <td>75.500000</td>\n",
              "      <td>15.053</td>\n",
              "      <td>1.468299</td>\n",
              "    </tr>\n",
              "    <tr>\n",
              "      <th>4</th>\n",
              "      <td>1/8/2008</td>\n",
              "      <td>1390.189941</td>\n",
              "      <td>86.779999</td>\n",
              "      <td>76.059998</td>\n",
              "      <td>15.590</td>\n",
              "      <td>1.557099</td>\n",
              "    </tr>\n",
              "  </tbody>\n",
              "</table>\n",
              "</div>"
            ],
            "text/plain": [
              "       Date          SPX        GLD        USO     SLV   EUR/USD\n",
              "0  1/2/2008  1447.160034  84.860001  78.470001  15.180  1.471692\n",
              "1  1/3/2008  1447.160034  85.570000  78.370003  15.285  1.474491\n",
              "2  1/4/2008  1411.630005  85.129997  77.309998  15.167  1.475492\n",
              "3  1/7/2008  1416.180054  84.769997  75.500000  15.053  1.468299\n",
              "4  1/8/2008  1390.189941  86.779999  76.059998  15.590  1.557099"
            ]
          },
          "metadata": {
            "tags": []
          },
          "execution_count": 5
        }
      ]
    },
    {
      "cell_type": "code",
      "metadata": {
        "colab": {
          "base_uri": "https://localhost:8080/",
          "height": 204
        },
        "id": "zTHRjYD820XV",
        "outputId": "40ecc14c-bbf5-489d-faa1-ab3b279e548f"
      },
      "source": [
        "# print last 5 rows of the dataframe\n",
        "gold_data.tail()"
      ],
      "execution_count": null,
      "outputs": [
        {
          "output_type": "execute_result",
          "data": {
            "text/html": [
              "<div>\n",
              "<style scoped>\n",
              "    .dataframe tbody tr th:only-of-type {\n",
              "        vertical-align: middle;\n",
              "    }\n",
              "\n",
              "    .dataframe tbody tr th {\n",
              "        vertical-align: top;\n",
              "    }\n",
              "\n",
              "    .dataframe thead th {\n",
              "        text-align: right;\n",
              "    }\n",
              "</style>\n",
              "<table border=\"1\" class=\"dataframe\">\n",
              "  <thead>\n",
              "    <tr style=\"text-align: right;\">\n",
              "      <th></th>\n",
              "      <th>Date</th>\n",
              "      <th>SPX</th>\n",
              "      <th>GLD</th>\n",
              "      <th>USO</th>\n",
              "      <th>SLV</th>\n",
              "      <th>EUR/USD</th>\n",
              "    </tr>\n",
              "  </thead>\n",
              "  <tbody>\n",
              "    <tr>\n",
              "      <th>2285</th>\n",
              "      <td>5/8/2018</td>\n",
              "      <td>2671.919922</td>\n",
              "      <td>124.589996</td>\n",
              "      <td>14.0600</td>\n",
              "      <td>15.5100</td>\n",
              "      <td>1.186789</td>\n",
              "    </tr>\n",
              "    <tr>\n",
              "      <th>2286</th>\n",
              "      <td>5/9/2018</td>\n",
              "      <td>2697.790039</td>\n",
              "      <td>124.330002</td>\n",
              "      <td>14.3700</td>\n",
              "      <td>15.5300</td>\n",
              "      <td>1.184722</td>\n",
              "    </tr>\n",
              "    <tr>\n",
              "      <th>2287</th>\n",
              "      <td>5/10/2018</td>\n",
              "      <td>2723.070068</td>\n",
              "      <td>125.180000</td>\n",
              "      <td>14.4100</td>\n",
              "      <td>15.7400</td>\n",
              "      <td>1.191753</td>\n",
              "    </tr>\n",
              "    <tr>\n",
              "      <th>2288</th>\n",
              "      <td>5/14/2018</td>\n",
              "      <td>2730.129883</td>\n",
              "      <td>124.489998</td>\n",
              "      <td>14.3800</td>\n",
              "      <td>15.5600</td>\n",
              "      <td>1.193118</td>\n",
              "    </tr>\n",
              "    <tr>\n",
              "      <th>2289</th>\n",
              "      <td>5/16/2018</td>\n",
              "      <td>2725.780029</td>\n",
              "      <td>122.543800</td>\n",
              "      <td>14.4058</td>\n",
              "      <td>15.4542</td>\n",
              "      <td>1.182033</td>\n",
              "    </tr>\n",
              "  </tbody>\n",
              "</table>\n",
              "</div>"
            ],
            "text/plain": [
              "           Date          SPX         GLD      USO      SLV   EUR/USD\n",
              "2285   5/8/2018  2671.919922  124.589996  14.0600  15.5100  1.186789\n",
              "2286   5/9/2018  2697.790039  124.330002  14.3700  15.5300  1.184722\n",
              "2287  5/10/2018  2723.070068  125.180000  14.4100  15.7400  1.191753\n",
              "2288  5/14/2018  2730.129883  124.489998  14.3800  15.5600  1.193118\n",
              "2289  5/16/2018  2725.780029  122.543800  14.4058  15.4542  1.182033"
            ]
          },
          "metadata": {
            "tags": []
          },
          "execution_count": 6
        }
      ]
    },
    {
      "cell_type": "code",
      "metadata": {
        "colab": {
          "base_uri": "https://localhost:8080/"
        },
        "id": "cXhXYJC33fr1",
        "outputId": "d2f2cbec-1e01-4266-9e7f-1be1bab2522d"
      },
      "source": [
        "# number of rows and columns\n",
        "gold_data.shape"
      ],
      "execution_count": null,
      "outputs": [
        {
          "output_type": "execute_result",
          "data": {
            "text/plain": [
              "(2290, 6)"
            ]
          },
          "metadata": {
            "tags": []
          },
          "execution_count": 7
        }
      ]
    },
    {
      "cell_type": "code",
      "metadata": {
        "colab": {
          "base_uri": "https://localhost:8080/"
        },
        "id": "pRPu7ii43vP0",
        "outputId": "8009743f-181b-4f43-f197-a9208324ade8"
      },
      "source": [
        "# getting some basic informations about the data\n",
        "gold_data.info()"
      ],
      "execution_count": null,
      "outputs": [
        {
          "output_type": "stream",
          "text": [
            "<class 'pandas.core.frame.DataFrame'>\n",
            "RangeIndex: 2290 entries, 0 to 2289\n",
            "Data columns (total 6 columns):\n",
            " #   Column   Non-Null Count  Dtype  \n",
            "---  ------   --------------  -----  \n",
            " 0   Date     2290 non-null   object \n",
            " 1   SPX      2290 non-null   float64\n",
            " 2   GLD      2290 non-null   float64\n",
            " 3   USO      2290 non-null   float64\n",
            " 4   SLV      2290 non-null   float64\n",
            " 5   EUR/USD  2290 non-null   float64\n",
            "dtypes: float64(5), object(1)\n",
            "memory usage: 107.5+ KB\n"
          ],
          "name": "stdout"
        }
      ]
    },
    {
      "cell_type": "code",
      "metadata": {
        "colab": {
          "base_uri": "https://localhost:8080/"
        },
        "id": "48zmeEwb4lkN",
        "outputId": "4092e92d-a2c7-4907-96ea-6c79eeacd70b"
      },
      "source": [
        "# checking the number of missing values\n",
        "gold_data.isnull().sum()"
      ],
      "execution_count": null,
      "outputs": [
        {
          "output_type": "execute_result",
          "data": {
            "text/plain": [
              "Date       0\n",
              "SPX        0\n",
              "GLD        0\n",
              "USO        0\n",
              "SLV        0\n",
              "EUR/USD    0\n",
              "dtype: int64"
            ]
          },
          "metadata": {
            "tags": []
          },
          "execution_count": 9
        }
      ]
    },
    {
      "cell_type": "code",
      "metadata": {
        "colab": {
          "base_uri": "https://localhost:8080/",
          "height": 297
        },
        "id": "UZ_VWaDj4CLV",
        "outputId": "af1189e8-b9f6-4643-e995-e88cb8e26822"
      },
      "source": [
        "# getting the statistical measures of the data\n",
        "gold_data.describe()"
      ],
      "execution_count": null,
      "outputs": [
        {
          "output_type": "execute_result",
          "data": {
            "text/html": [
              "<div>\n",
              "<style scoped>\n",
              "    .dataframe tbody tr th:only-of-type {\n",
              "        vertical-align: middle;\n",
              "    }\n",
              "\n",
              "    .dataframe tbody tr th {\n",
              "        vertical-align: top;\n",
              "    }\n",
              "\n",
              "    .dataframe thead th {\n",
              "        text-align: right;\n",
              "    }\n",
              "</style>\n",
              "<table border=\"1\" class=\"dataframe\">\n",
              "  <thead>\n",
              "    <tr style=\"text-align: right;\">\n",
              "      <th></th>\n",
              "      <th>SPX</th>\n",
              "      <th>GLD</th>\n",
              "      <th>USO</th>\n",
              "      <th>SLV</th>\n",
              "      <th>EUR/USD</th>\n",
              "    </tr>\n",
              "  </thead>\n",
              "  <tbody>\n",
              "    <tr>\n",
              "      <th>count</th>\n",
              "      <td>2290.000000</td>\n",
              "      <td>2290.000000</td>\n",
              "      <td>2290.000000</td>\n",
              "      <td>2290.000000</td>\n",
              "      <td>2290.000000</td>\n",
              "    </tr>\n",
              "    <tr>\n",
              "      <th>mean</th>\n",
              "      <td>1654.315776</td>\n",
              "      <td>122.732875</td>\n",
              "      <td>31.842221</td>\n",
              "      <td>20.084997</td>\n",
              "      <td>1.283653</td>\n",
              "    </tr>\n",
              "    <tr>\n",
              "      <th>std</th>\n",
              "      <td>519.111540</td>\n",
              "      <td>23.283346</td>\n",
              "      <td>19.523517</td>\n",
              "      <td>7.092566</td>\n",
              "      <td>0.131547</td>\n",
              "    </tr>\n",
              "    <tr>\n",
              "      <th>min</th>\n",
              "      <td>676.530029</td>\n",
              "      <td>70.000000</td>\n",
              "      <td>7.960000</td>\n",
              "      <td>8.850000</td>\n",
              "      <td>1.039047</td>\n",
              "    </tr>\n",
              "    <tr>\n",
              "      <th>25%</th>\n",
              "      <td>1239.874969</td>\n",
              "      <td>109.725000</td>\n",
              "      <td>14.380000</td>\n",
              "      <td>15.570000</td>\n",
              "      <td>1.171313</td>\n",
              "    </tr>\n",
              "    <tr>\n",
              "      <th>50%</th>\n",
              "      <td>1551.434998</td>\n",
              "      <td>120.580002</td>\n",
              "      <td>33.869999</td>\n",
              "      <td>17.268500</td>\n",
              "      <td>1.303296</td>\n",
              "    </tr>\n",
              "    <tr>\n",
              "      <th>75%</th>\n",
              "      <td>2073.010070</td>\n",
              "      <td>132.840004</td>\n",
              "      <td>37.827501</td>\n",
              "      <td>22.882499</td>\n",
              "      <td>1.369971</td>\n",
              "    </tr>\n",
              "    <tr>\n",
              "      <th>max</th>\n",
              "      <td>2872.870117</td>\n",
              "      <td>184.589996</td>\n",
              "      <td>117.480003</td>\n",
              "      <td>47.259998</td>\n",
              "      <td>1.598798</td>\n",
              "    </tr>\n",
              "  </tbody>\n",
              "</table>\n",
              "</div>"
            ],
            "text/plain": [
              "               SPX          GLD          USO          SLV      EUR/USD\n",
              "count  2290.000000  2290.000000  2290.000000  2290.000000  2290.000000\n",
              "mean   1654.315776   122.732875    31.842221    20.084997     1.283653\n",
              "std     519.111540    23.283346    19.523517     7.092566     0.131547\n",
              "min     676.530029    70.000000     7.960000     8.850000     1.039047\n",
              "25%    1239.874969   109.725000    14.380000    15.570000     1.171313\n",
              "50%    1551.434998   120.580002    33.869999    17.268500     1.303296\n",
              "75%    2073.010070   132.840004    37.827501    22.882499     1.369971\n",
              "max    2872.870117   184.589996   117.480003    47.259998     1.598798"
            ]
          },
          "metadata": {
            "tags": []
          },
          "execution_count": 10
        }
      ]
    },
    {
      "cell_type": "markdown",
      "metadata": {
        "id": "7lL63m5k5U-f"
      },
      "source": [
        "correlation:\n",
        "1.positive correlation\n",
        "2.negative correlation"
      ]
    },
    {
      "cell_type": "code",
      "metadata": {
        "id": "rGwgBmKR5wwo"
      },
      "source": [
        "correlation = gold_data.corr()"
      ],
      "execution_count": null,
      "outputs": []
    },
    {
      "cell_type": "code",
      "metadata": {
        "colab": {
          "base_uri": "https://localhost:8080/",
          "height": 487
        },
        "id": "f17_7YQe6j7H",
        "outputId": "01c8d4ed-4878-463b-afe0-67ef27ed9b23"
      },
      "source": [
        "# constructing a heatmap to understand the correlatiom\n",
        "plt.figure(figsize = (8,8))\n",
        "sns.heatmap(correlation, cbar=True, square=True, fmt='.1f',annot=True, annot_kws={'size':8}, cmap='Blues')"
      ],
      "execution_count": null,
      "outputs": [
        {
          "output_type": "execute_result",
          "data": {
            "text/plain": [
              "<matplotlib.axes._subplots.AxesSubplot at 0x7f32dc4608d0>"
            ]
          },
          "metadata": {
            "tags": []
          },
          "execution_count": 12
        },
        {
          "output_type": "display_data",
          "data": {
            "image/png": "[encoded data removed]",
            "text/plain": [
              "<Figure size 576x576 with 2 Axes>"
            ]
          },
          "metadata": {
            "tags": [],
            "needs_background": "light"
          }
        }
      ]
    },
    {
      "cell_type": "code",
      "metadata": {
        "colab": {
          "base_uri": "https://localhost:8080/"
        },
        "id": "xVs8XLYT7I67",
        "outputId": "43b35ada-2125-4ff8-9203-c2057f360837"
      },
      "source": [
        "# correlation values of GLD\n",
        "print(correlation['GLD'])"
      ],
      "execution_count": null,
      "outputs": [
        {
          "output_type": "stream",
          "text": [
            "SPX        0.049345\n",
            "GLD        1.000000\n",
            "USO       -0.186360\n",
            "SLV        0.866632\n",
            "EUR/USD   -0.024375\n",
            "Name: GLD, dtype: float64\n"
          ],
          "name": "stdout"
        }
      ]
    },
    {
      "cell_type": "code",
      "metadata": {
        "colab": {
          "base_uri": "https://localhost:8080/",
          "height": 354
        },
        "id": "KI_u79Em70nt",
        "outputId": "a0de3a23-7d97-48b5-8024-ac9d8166d92a"
      },
      "source": [
        "# checking the distribution of the GLD Price\n",
        "sns.distplot(gold_data['GLD'],color='green')"
      ],
      "execution_count": null,
      "outputs": [
        {
          "output_type": "stream",
          "text": [
            "/usr/local/lib/python3.7/dist-packages/seaborn/distributions.py:2557: FutureWarning: `distplot` is a deprecated function and will be removed in a future version. Please adapt your code to use either `displot` (a figure-level function with similar flexibility) or `histplot` (an axes-level function for histograms).\n",
            "  warnings.warn(msg, FutureWarning)\n"
          ],
          "name": "stderr"
        },
        {
          "output_type": "execute_result",
          "data": {
            "text/plain": [
              "<matplotlib.axes._subplots.AxesSubplot at 0x7f32d3e31a90>"
            ]
          },
          "metadata": {
            "tags": []
          },
          "execution_count": 14
        },
        {
          "output_type": "display_data",
          "data": {
            "image/png": "[encoded data removed]",
            "text/plain": [
              "<Figure size 432x288 with 1 Axes>"
            ]
          },
          "metadata": {
            "tags": [],
            "needs_background": "light"
          }
        }
      ]
    },
    {
      "cell_type": "markdown",
      "metadata": {
        "id": "AUqAGSzo80WL"
      },
      "source": [
        "spilliting the features and target"
      ]
    },
    {
      "cell_type": "code",
      "metadata": {
        "id": "DCrbIvAn8VIQ"
      },
      "source": [
        "X = gold_data.drop(['Date','GLD'],axis=1)\n",
        "Y = gold_data['GLD']"
      ],
      "execution_count": null,
      "outputs": []
    },
    {
      "cell_type": "code",
      "metadata": {
        "colab": {
          "base_uri": "https://localhost:8080/"
        },
        "id": "ws20iFiy9T-2",
        "outputId": "8ad0e9b8-8cad-4fdf-967a-d71fe1e7b687"
      },
      "source": [
        "print(X)"
      ],
      "execution_count": null,
      "outputs": [
        {
          "output_type": "stream",
          "text": [
            "              SPX        USO      SLV   EUR/USD\n",
            "0     1447.160034  78.470001  15.1800  1.471692\n",
            "1     1447.160034  78.370003  15.2850  1.474491\n",
            "2     1411.630005  77.309998  15.1670  1.475492\n",
            "3     1416.180054  75.500000  15.0530  1.468299\n",
            "4     1390.189941  76.059998  15.5900  1.557099\n",
            "...           ...        ...      ...       ...\n",
            "2285  2671.919922  14.060000  15.5100  1.186789\n",
            "2286  2697.790039  14.370000  15.5300  1.184722\n",
            "2287  2723.070068  14.410000  15.7400  1.191753\n",
            "2288  2730.129883  14.380000  15.5600  1.193118\n",
            "2289  2725.780029  14.405800  15.4542  1.182033\n",
            "\n",
            "[2290 rows x 4 columns]\n"
          ],
          "name": "stdout"
        }
      ]
    },
    {
      "cell_type": "code",
      "metadata": {
        "colab": {
          "base_uri": "https://localhost:8080/"
        },
        "id": "K1CZWoxl9aVg",
        "outputId": "75c13d47-3d0b-433c-d0b9-b7c9dfdaa339"
      },
      "source": [
        "print(Y)"
      ],
      "execution_count": null,
      "outputs": [
        {
          "output_type": "stream",
          "text": [
            "0        84.860001\n",
            "1        85.570000\n",
            "2        85.129997\n",
            "3        84.769997\n",
            "4        86.779999\n",
            "           ...    \n",
            "2285    124.589996\n",
            "2286    124.330002\n",
            "2287    125.180000\n",
            "2288    124.489998\n",
            "2289    122.543800\n",
            "Name: GLD, Length: 2290, dtype: float64\n"
          ],
          "name": "stdout"
        }
      ]
    },
    {
      "cell_type": "markdown",
      "metadata": {
        "id": "5JDvQtZl9tgW"
      },
      "source": [
        "spilliting into training and test data"
      ]
    },
    {
      "cell_type": "code",
      "metadata": {
        "id": "IavpbroA9iVZ"
      },
      "source": [
        "X_train, X_test, Y_train, Y_test = train_test_split(X, Y, test_size = 0.2, random_state=2)"
      ],
      "execution_count": null,
      "outputs": []
    },
    {
      "cell_type": "markdown",
      "metadata": {
        "id": "lSgVQfB9-sCS"
      },
      "source": [
        "modell training:\n",
        "random forest regressor"
      ]
    },
    {
      "cell_type": "code",
      "metadata": {
        "id": "jOsslOTd-KPK"
      },
      "source": [
        "regressor = RandomForestRegressor(n_estimators=100)"
      ],
      "execution_count": null,
      "outputs": []
    },
    {
      "cell_type": "code",
      "metadata": {
        "colab": {
          "base_uri": "https://localhost:8080/"
        },
        "id": "YMyNn3eX_rt-",
        "outputId": "7f0a09fd-61e6-4db0-b821-9ac7df52ba45"
      },
      "source": [
        "# training the model\n",
        "regressor.fit(X_train,Y_train)"
      ],
      "execution_count": null,
      "outputs": [
        {
          "output_type": "execute_result",
          "data": {
            "text/plain": [
              "RandomForestRegressor(bootstrap=True, ccp_alpha=0.0, criterion='mse',\n",
              "                      max_depth=None, max_features='auto', max_leaf_nodes=None,\n",
              "                      max_samples=None, min_impurity_decrease=0.0,\n",
              "                      min_impurity_split=None, min_samples_leaf=1,\n",
              "                      min_samples_split=2, min_weight_fraction_leaf=0.0,\n",
              "                      n_estimators=100, n_jobs=None, oob_score=False,\n",
              "                      random_state=None, verbose=0, warm_start=False)"
            ]
          },
          "metadata": {
            "tags": []
          },
          "execution_count": 20
        }
      ]
    },
    {
      "cell_type": "code",
      "metadata": {
        "id": "lXuQ9-GH_6u7"
      },
      "source": [
        "# prediction on Test Data\n",
        "test_data_prediction = regressor.predict(X_test)"
      ],
      "execution_count": null,
      "outputs": []
    },
    {
      "cell_type": "code",
      "metadata": {
        "colab": {
          "base_uri": "https://localhost:8080/"
        },
        "id": "-Sfb899LAdFk",
        "outputId": "426d0dc4-2439-407a-9618-48125c3f529e"
      },
      "source": [
        "print(test_data_prediction)"
      ],
      "execution_count": null,
      "outputs": [
        {
          "output_type": "stream",
          "text": [
            "[168.54659959  82.0653     115.74220019 127.62980053 120.63500136\n",
            " 154.68089704 150.76509869 126.04980076 117.49619863 125.98360072\n",
            " 116.69020085 171.99150096 141.40369835 167.86399839 115.32269987\n",
            " 117.33120032 138.86440353 169.92520059 159.26280257 159.92019947\n",
            " 155.18010032 125.01940039 176.53530039 157.1888036  125.3019003\n",
            "  93.65829949  77.80990038 120.76209975 119.12719944 167.35499925\n",
            "  88.21310034 125.27580006  91.12770094 117.90479996 121.20619966\n",
            " 136.83730124 115.31010121 114.96370062 147.53640012 106.94940104\n",
            " 104.66470224  87.02249775 126.53530069 117.84489972 152.82429857\n",
            " 119.8078995  108.31690021 107.93179845  93.21500106 127.10539798\n",
            "  75.41590022 113.57109924 121.37990017 111.25179905 118.80729875\n",
            " 120.51369986 159.45319985 166.95920151 147.09939648  85.97039905\n",
            "  94.26880023  86.82929865  90.54950047 118.95030085 126.47260077\n",
            " 127.6652999  169.90769925 122.16629915 117.39439902  98.46580013\n",
            " 168.4495015  143.34739843 132.04970171 121.24530229 121.34429932\n",
            " 119.50070069 114.37170185 117.90330076 106.9891008  127.91320101\n",
            " 114.1728997  107.12450014 117.05750034 119.79329861  88.75730021\n",
            "  88.37749886 146.12700164 127.08570005 113.42510049 109.93749839\n",
            " 108.26449903  77.43609911 169.55280198 114.10009895 121.59639934\n",
            " 127.99500157 155.06169832  91.82559926 135.71310112 159.03720258\n",
            " 125.60830022 125.42910039 130.56130144 114.74090164 119.79799967\n",
            "  92.1226     110.44449884 168.84389891 157.96079941 114.18029921\n",
            " 106.74110128  79.56819951 113.26460055 125.9181009  107.23599904\n",
            " 118.99480062 156.03470323 159.71029865 120.03869985 134.23740271\n",
            " 101.53259975 117.81499769 119.2834003  113.03380075 102.83079919\n",
            " 160.34789766  98.77390047 147.74749945 125.68450082 169.13529913\n",
            " 125.74279921 127.26329768 127.43740158 113.81779937 113.00750082\n",
            " 123.7517991  102.27539907  89.5572998  124.78739951 101.49269917\n",
            " 107.17819887 113.50420079 117.16150056  98.92269939 121.47540054\n",
            " 163.97249988  87.41839876 106.84349969 117.31280083 127.72320137\n",
            " 124.16790059  80.66219905 120.44650062 156.72789878  87.88709929\n",
            " 110.24589939 118.95719914 172.03539874 102.98329917 105.3632006\n",
            " 122.3120003  157.47199815  87.95819854  93.03660026 112.91290038\n",
            " 177.80579975 114.62809961 119.2282001   94.46790096 125.72949989\n",
            " 166.4397012  114.83790119 116.69700149  88.46399877 148.79770095\n",
            " 120.47419969  89.51509975 111.42889955 117.43370006 118.72310117\n",
            "  88.06889908  94.04679988 116.87040044 118.65410197 120.13280034\n",
            " 126.70089851 121.97159942 150.93420041 166.12070145 118.57509938\n",
            " 120.30260102 149.85220102 118.41169926 172.44609882 105.40109943\n",
            " 104.99410071 149.26580092 113.77330093 124.88300101 147.08319977\n",
            " 119.75920107 115.47910027 112.3299997  113.47560202 141.31360176\n",
            " 117.77289785 102.8772001  115.90240094 103.75310169  98.66720019\n",
            " 117.48420068  90.6633      91.3590006  153.66229895 102.69540001\n",
            " 154.04140115 114.39670136 138.8486011   90.13439826 115.54019977\n",
            " 114.75519976 122.87240077 121.79330051 165.4636009   92.99299931\n",
            " 135.14010095 121.30379944 120.89080074 104.78550011 141.08490345\n",
            " 121.95429909 116.53520044 113.38270103 126.99439822 122.57529956\n",
            " 125.7623994  121.20580055  86.80959917 132.61120169 145.70210188\n",
            "  92.71549963 158.08979972 158.23970137 126.30159882 166.01630005\n",
            " 108.97329938 109.95030061 103.68639836  94.44800041 127.94720273\n",
            " 107.13730046 160.49879996 121.46550049 132.23450039 130.60180133\n",
            " 160.69909964  90.23309865 176.1731025  128.06549976 126.67659877\n",
            "  86.3726989  124.62509981 150.14409737  89.70190007 107.11799955\n",
            " 109.02189994  84.25079887 136.7010003  155.29750232 139.00290421\n",
            "  73.28030044 151.22500134 126.10179956 126.78330022 127.41459936\n",
            " 108.60049986 155.95859993 114.4236014  116.95080129 125.37709946\n",
            " 154.01860164 121.51629974 156.36869878  92.87420056 125.50500166\n",
            " 125.74090074  87.83280053  92.19109918 126.26849939 128.24850326\n",
            " 112.86050029 117.50499768 121.00370018 127.05089827 120.02670078\n",
            " 136.53000145  93.92729934 119.6788001  113.46370121  94.30839948\n",
            " 108.79199992  88.06689935 109.42609924  89.81759991  92.66799999\n",
            " 131.39930254 162.61640036  89.08070012 119.66650081 133.27960181\n",
            " 123.93620037 128.4432018  101.96629854  88.9337986  131.81040073\n",
            " 120.0059006  108.76840022 168.07170111 115.27630025  86.53939878\n",
            " 118.95580053  91.14539978 161.72760035 116.41380032 121.5847002\n",
            " 160.24949749 120.0355993  112.53729962 108.45719848 126.70260041\n",
            "  76.2170004  103.00869979 127.6667028  121.79389926  92.73799984\n",
            " 131.6835001  118.06300125 116.30679981 154.34020223 159.50700091\n",
            " 110.07259954 156.40879791 119.34950071 160.74480074 118.55690032\n",
            " 158.82929864 115.06489967 116.79980041 149.12899887 114.86020072\n",
            " 126.05729841 166.73060003 117.77330026 125.092399   153.31590335\n",
            " 153.39810254 132.19340065 114.81360039 121.38320216 124.97410087\n",
            "  89.69830043 123.39699989 154.60420169 111.83650037 106.99999937\n",
            " 162.1459017  118.69719994 165.81640041 133.9698018  115.07779907\n",
            " 153.0916992  168.62380048 114.72029998 114.04670116 159.13729953\n",
            "  85.23119863 127.05500054 127.89850066 128.85280027 124.42760088\n",
            " 123.8089006   90.94650098 153.28340027  97.1108997  137.04470004\n",
            "  89.18289951 107.11610016 115.00240031 112.76120091 124.1992991\n",
            "  91.42799889 125.38610134 162.67379864 120.14049865 165.33600068\n",
            " 126.75759852 112.37350029 127.4654993   95.4031989   91.05639969\n",
            " 103.56359921 120.84959979  82.88869916 126.34649974 160.26330408\n",
            " 117.28670101 118.41050001 120.10439962 122.73489946 120.08930117\n",
            " 121.40880046 118.35720072 107.07369958 148.23429972 126.12979909\n",
            " 115.80640055  73.55510017 127.85390144 154.14810036 122.5690998\n",
            " 125.57230061  88.78870018 103.22099836 124.75870022 120.29620019\n",
            "  73.10950109 151.23790125 121.26820041 104.64049981  86.20689788\n",
            " 114.92209885 172.1237988  119.96380021 160.4248975  113.18729964\n",
            " 121.23949995 118.52260119  96.03659989 118.65090061 126.01710038\n",
            " 118.41559956  96.26090074 153.86250159 122.21580004 147.20030006\n",
            " 159.6530024  113.88129989 122.58859923 150.43919806 127.24400029\n",
            " 165.60630097 135.74830019 119.90899939 166.71609828 108.16299944\n",
            " 121.66089874 138.86920202 107.08629866]\n"
          ],
          "name": "stdout"
        }
      ]
    },
    {
      "cell_type": "code",
      "metadata": {
        "colab": {
          "base_uri": "https://localhost:8080/"
        },
        "id": "cyLzXUZ4AiOv",
        "outputId": "8fbae385-eab1-426f-c37e-fd00216cf0a9"
      },
      "source": [
        "# R squared error\n",
        "error_score = metrics.r2_score(Y_test, test_data_prediction)\n",
        "print(\"R squared error : \", error_score)"
      ],
      "execution_count": null,
      "outputs": [
        {
          "output_type": "stream",
          "text": [
            "R squared error :  0.9892833551997053\n"
          ],
          "name": "stdout"
        }
      ]
    },
    {
      "cell_type": "markdown",
      "metadata": {
        "id": "J9AlwABUBdxF"
      },
      "source": [
        "compare actual and predicted value in a plot"
      ]
    },
    {
      "cell_type": "code",
      "metadata": {
        "id": "1dAZCletBEFt"
      },
      "source": [
        "Y_test = list(Y_test)"
      ],
      "execution_count": null,
      "outputs": []
    },
    {
      "cell_type": "code",
      "metadata": {
        "colab": {
          "base_uri": "https://localhost:8080/",
          "height": 295
        },
        "id": "YXCnlfFhB88O",
        "outputId": "9f55d648-3c50-45ae-a25d-13a4be5c69ae"
      },
      "source": [
        "plt.plot(Y_test, color='blue', label = 'Actual Value')\n",
        "plt.plot(test_data_prediction, color='green', label='Predicted Value')\n",
        "plt.title('Actual Price vs Predicted Price')\n",
        "plt.xlabel('Number of values')\n",
        "plt.ylabel('GLD Price')\n",
        "plt.legend()\n",
        "plt.show()"
      ],
      "execution_count": null,
      "outputs": [
        {
          "output_type": "display_data",
          "data": {
            "image/png": "[encoded data removed]",
            "text/plain": [
              "<Figure size 432x288 with 1 Axes>"
            ]
          },
          "metadata": {
            "tags": [],
            "needs_background": "light"
          }
        }
      ]
    },
    {
      "cell_type": "code",
      "metadata": {
        "id": "1s7TmewXCb4w"
      },
      "source": [
        ""
      ],
      "execution_count": null,
      "outputs": []
    }
  ]
}